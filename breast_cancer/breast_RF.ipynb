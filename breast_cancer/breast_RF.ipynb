{
 "cells": [
  {
   "cell_type": "code",
   "execution_count": 1,
   "id": "c6b3f20c",
   "metadata": {},
   "outputs": [],
   "source": [
    "import cv2\n",
    "import numpy as np\n",
    "import pandas as pd\n",
    "from sklearn.ensemble import RandomForestClassifier\n",
    "from sklearn.model_selection import train_test_split\n",
    "from sklearn.metrics import accuracy_score"
   ]
  },
  {
   "cell_type": "code",
   "execution_count": 2,
   "id": "52a7f205",
   "metadata": {},
   "outputs": [],
   "source": [
    "# Step 1: Image Enhancement\n",
    "def enhance_image(image):\n",
    "    negative_image = 255 - image\n",
    "    return negative_image"
   ]
  },
  {
   "cell_type": "code",
   "execution_count": 3,
   "id": "3618741f",
   "metadata": {},
   "outputs": [],
   "source": [
    "# Step 2: Image Segmentation\n",
    "def segment_image(image):\n",
    "    _, binary_image = cv2.threshold(image, 0, 255, cv2.THRESH_BINARY + cv2.THRESH_OTSU)\n",
    "    return binary_image"
   ]
  },
  {
   "cell_type": "code",
   "execution_count": 4,
   "id": "dea39f96",
   "metadata": {},
   "outputs": [],
   "source": [
    "# Step 3: Feature Extraction using SIFT\n",
    "def extract_features(image):\n",
    "    sift = cv2.SIFT_create()\n",
    "    keypoints, descriptors = sift.detectAndCompute(image, None)\n",
    "    radius = len(keypoints)\n",
    "    perimeter = len(keypoints)\n",
    "    area = len(keypoints)\n",
    "    return radius, perimeter, area"
   ]
  },
  {
   "cell_type": "code",
   "execution_count": 5,
   "id": "4280c334",
   "metadata": {},
   "outputs": [],
   "source": [
    "# Step 5: Prediction with Random Forest Model\n",
    "def predict_with_random_forest(features):\n",
    "    model = RandomForestClassifier()\n",
    "    model.load_model('random_forest_model.pkl')\n",
    "    preprocessed_features = features\n",
    "    predictions = model.predict(preprocessed_features)\n",
    "    return predictions"
   ]
  },
  {
   "cell_type": "code",
   "execution_count": 6,
   "id": "7d1328cb",
   "metadata": {},
   "outputs": [],
   "source": [
    "\n",
    "# Step 1: Load and Prepare Breast Cancer Dataset\n",
    "dataset = pd.read_csv('breast_cancer_dataset.csv')"
   ]
  },
  {
   "cell_type": "code",
   "execution_count": 7,
   "id": "09f3f71a",
   "metadata": {},
   "outputs": [
    {
     "data": {
      "text/plain": [
       "(569, 4)"
      ]
     },
     "execution_count": 7,
     "metadata": {},
     "output_type": "execute_result"
    }
   ],
   "source": [
    "dataset.shape"
   ]
  },
  {
   "cell_type": "code",
   "execution_count": 8,
   "id": "d53add26",
   "metadata": {},
   "outputs": [],
   "source": [
    "null_counts = dataset.isnull().sum()"
   ]
  },
  {
   "cell_type": "code",
   "execution_count": 9,
   "id": "37af2de8",
   "metadata": {},
   "outputs": [
    {
     "data": {
      "text/plain": [
       "radius       0\n",
       "perimeter    0\n",
       "area         0\n",
       "cancer       0\n",
       "dtype: int64"
      ]
     },
     "execution_count": 9,
     "metadata": {},
     "output_type": "execute_result"
    }
   ],
   "source": [
    "null_counts"
   ]
  },
  {
   "cell_type": "code",
   "execution_count": 10,
   "id": "e0d5bbec",
   "metadata": {},
   "outputs": [],
   "source": [
    "# Drop rows with missing values\n",
    "dataset = dataset.dropna()"
   ]
  },
  {
   "cell_type": "code",
   "execution_count": 11,
   "id": "db9f10a0",
   "metadata": {},
   "outputs": [],
   "source": [
    "X = dataset[['radius', 'perimeter', 'area']]  # Features: radius, perimeter, area\n",
    "y = dataset['cancer']  # Target variable: cancer (0 for no cancer, 1 for cancer)"
   ]
  },
  {
   "cell_type": "code",
   "execution_count": 12,
   "id": "b4d9bebd",
   "metadata": {},
   "outputs": [],
   "source": [
    "# Step 2: Split the dataset into training and testing sets\n",
    "X_train, X_test, y_train, y_test = train_test_split(X, y, test_size=0.2, random_state=42)"
   ]
  },
  {
   "cell_type": "code",
   "execution_count": 13,
   "id": "b780a0cc",
   "metadata": {},
   "outputs": [
    {
     "data": {
      "text/html": [
       "<style>#sk-container-id-1 {color: black;background-color: white;}#sk-container-id-1 pre{padding: 0;}#sk-container-id-1 div.sk-toggleable {background-color: white;}#sk-container-id-1 label.sk-toggleable__label {cursor: pointer;display: block;width: 100%;margin-bottom: 0;padding: 0.3em;box-sizing: border-box;text-align: center;}#sk-container-id-1 label.sk-toggleable__label-arrow:before {content: \"▸\";float: left;margin-right: 0.25em;color: #696969;}#sk-container-id-1 label.sk-toggleable__label-arrow:hover:before {color: black;}#sk-container-id-1 div.sk-estimator:hover label.sk-toggleable__label-arrow:before {color: black;}#sk-container-id-1 div.sk-toggleable__content {max-height: 0;max-width: 0;overflow: hidden;text-align: left;background-color: #f0f8ff;}#sk-container-id-1 div.sk-toggleable__content pre {margin: 0.2em;color: black;border-radius: 0.25em;background-color: #f0f8ff;}#sk-container-id-1 input.sk-toggleable__control:checked~div.sk-toggleable__content {max-height: 200px;max-width: 100%;overflow: auto;}#sk-container-id-1 input.sk-toggleable__control:checked~label.sk-toggleable__label-arrow:before {content: \"▾\";}#sk-container-id-1 div.sk-estimator input.sk-toggleable__control:checked~label.sk-toggleable__label {background-color: #d4ebff;}#sk-container-id-1 div.sk-label input.sk-toggleable__control:checked~label.sk-toggleable__label {background-color: #d4ebff;}#sk-container-id-1 input.sk-hidden--visually {border: 0;clip: rect(1px 1px 1px 1px);clip: rect(1px, 1px, 1px, 1px);height: 1px;margin: -1px;overflow: hidden;padding: 0;position: absolute;width: 1px;}#sk-container-id-1 div.sk-estimator {font-family: monospace;background-color: #f0f8ff;border: 1px dotted black;border-radius: 0.25em;box-sizing: border-box;margin-bottom: 0.5em;}#sk-container-id-1 div.sk-estimator:hover {background-color: #d4ebff;}#sk-container-id-1 div.sk-parallel-item::after {content: \"\";width: 100%;border-bottom: 1px solid gray;flex-grow: 1;}#sk-container-id-1 div.sk-label:hover label.sk-toggleable__label {background-color: #d4ebff;}#sk-container-id-1 div.sk-serial::before {content: \"\";position: absolute;border-left: 1px solid gray;box-sizing: border-box;top: 0;bottom: 0;left: 50%;z-index: 0;}#sk-container-id-1 div.sk-serial {display: flex;flex-direction: column;align-items: center;background-color: white;padding-right: 0.2em;padding-left: 0.2em;position: relative;}#sk-container-id-1 div.sk-item {position: relative;z-index: 1;}#sk-container-id-1 div.sk-parallel {display: flex;align-items: stretch;justify-content: center;background-color: white;position: relative;}#sk-container-id-1 div.sk-item::before, #sk-container-id-1 div.sk-parallel-item::before {content: \"\";position: absolute;border-left: 1px solid gray;box-sizing: border-box;top: 0;bottom: 0;left: 50%;z-index: -1;}#sk-container-id-1 div.sk-parallel-item {display: flex;flex-direction: column;z-index: 1;position: relative;background-color: white;}#sk-container-id-1 div.sk-parallel-item:first-child::after {align-self: flex-end;width: 50%;}#sk-container-id-1 div.sk-parallel-item:last-child::after {align-self: flex-start;width: 50%;}#sk-container-id-1 div.sk-parallel-item:only-child::after {width: 0;}#sk-container-id-1 div.sk-dashed-wrapped {border: 1px dashed gray;margin: 0 0.4em 0.5em 0.4em;box-sizing: border-box;padding-bottom: 0.4em;background-color: white;}#sk-container-id-1 div.sk-label label {font-family: monospace;font-weight: bold;display: inline-block;line-height: 1.2em;}#sk-container-id-1 div.sk-label-container {text-align: center;}#sk-container-id-1 div.sk-container {/* jupyter's `normalize.less` sets `[hidden] { display: none; }` but bootstrap.min.css set `[hidden] { display: none !important; }` so we also need the `!important` here to be able to override the default hidden behavior on the sphinx rendered scikit-learn.org. See: https://github.com/scikit-learn/scikit-learn/issues/21755 */display: inline-block !important;position: relative;}#sk-container-id-1 div.sk-text-repr-fallback {display: none;}</style><div id=\"sk-container-id-1\" class=\"sk-top-container\"><div class=\"sk-text-repr-fallback\"><pre>RandomForestClassifier()</pre><b>In a Jupyter environment, please rerun this cell to show the HTML representation or trust the notebook. <br />On GitHub, the HTML representation is unable to render, please try loading this page with nbviewer.org.</b></div><div class=\"sk-container\" hidden><div class=\"sk-item\"><div class=\"sk-estimator sk-toggleable\"><input class=\"sk-toggleable__control sk-hidden--visually\" id=\"sk-estimator-id-1\" type=\"checkbox\" checked><label for=\"sk-estimator-id-1\" class=\"sk-toggleable__label sk-toggleable__label-arrow\">RandomForestClassifier</label><div class=\"sk-toggleable__content\"><pre>RandomForestClassifier()</pre></div></div></div></div></div>"
      ],
      "text/plain": [
       "RandomForestClassifier()"
      ]
     },
     "execution_count": 13,
     "metadata": {},
     "output_type": "execute_result"
    }
   ],
   "source": [
    "# Step 3: Train the Random Forest model\n",
    "model = RandomForestClassifier()\n",
    "model.fit(X_train, y_train)"
   ]
  },
  {
   "cell_type": "code",
   "execution_count": 14,
   "id": "383b9c52",
   "metadata": {},
   "outputs": [
    {
     "name": "stdout",
     "output_type": "stream",
     "text": [
      "Accuracy: 0.9210526315789473\n"
     ]
    }
   ],
   "source": [
    "# Step 4: Calculate Accuracy on the Test Set\n",
    "y_pred = model.predict(X_test)\n",
    "accuracy = accuracy_score(y_test, y_pred)\n",
    "print(\"Accuracy:\", accuracy)"
   ]
  },
  {
   "cell_type": "code",
   "execution_count": 24,
   "id": "94ad03cd",
   "metadata": {},
   "outputs": [],
   "source": [
    "# Step 5: Load and Process the Input Image\n",
    "image = cv2.imread('detect.jpg', 0)  # Assuming you have the input image saved as 'input_image.jpg'"
   ]
  },
  {
   "cell_type": "code",
   "execution_count": 25,
   "id": "c3ae240b",
   "metadata": {},
   "outputs": [],
   "source": [
    "# Display the enhanced image\n",
    "cv2.imshow(\"Enhanced Image\", image)\n",
    "cv2.waitKey(0)\n",
    "cv2.destroyAllWindows()"
   ]
  },
  {
   "cell_type": "code",
   "execution_count": 26,
   "id": "53d8238b",
   "metadata": {},
   "outputs": [],
   "source": [
    "# Step 6: Image Enhancement\n",
    "enhanced_image = enhance_image(image)\n"
   ]
  },
  {
   "cell_type": "code",
   "execution_count": 27,
   "id": "d6b7272a",
   "metadata": {},
   "outputs": [],
   "source": [
    "# Display the enhanced image\n",
    "cv2.imshow(\"Enhanced Image\", enhanced_image)\n",
    "cv2.waitKey(0)\n",
    "cv2.destroyAllWindows()"
   ]
  },
  {
   "cell_type": "code",
   "execution_count": 19,
   "id": "633486f5",
   "metadata": {},
   "outputs": [],
   "source": [
    "# Step 7: Image Segmentation\n",
    "segmented_image = segment_image(enhanced_image)"
   ]
  },
  {
   "cell_type": "code",
   "execution_count": 28,
   "id": "4dfe2936",
   "metadata": {},
   "outputs": [],
   "source": [
    "# Display the enhanced image\n",
    "cv2.imshow(\"Enhanced Image\", segmented_image)\n",
    "cv2.waitKey(0)\n",
    "cv2.destroyAllWindows()"
   ]
  },
  {
   "cell_type": "code",
   "execution_count": 18,
   "id": "758b83b2",
   "metadata": {},
   "outputs": [],
   "source": [
    "# Step 8: Feature Extraction using SIFT\n",
    "radius, perimeter, area = extract_features(segmented_image)"
   ]
  },
  {
   "cell_type": "code",
   "execution_count": 19,
   "id": "19757ef5",
   "metadata": {},
   "outputs": [],
   "source": [
    "# Step 9: Create DataFrame with Features\n",
    "features = pd.DataFrame([[radius, perimeter, area]], columns=['radius', 'perimeter', 'area'])"
   ]
  },
  {
   "cell_type": "code",
   "execution_count": 20,
   "id": "465e6c15",
   "metadata": {},
   "outputs": [
    {
     "name": "stdout",
     "output_type": "stream",
     "text": [
      "Prediction: [1]\n"
     ]
    }
   ],
   "source": [
    "# Step 10: Predict with the Trained Random Forest Model\n",
    "prediction = model.predict(features)\n",
    "print(\"Prediction:\", prediction)"
   ]
  },
  {
   "cell_type": "code",
   "execution_count": 21,
   "id": "12405e48",
   "metadata": {},
   "outputs": [
    {
     "data": {
      "text/plain": [
       "1"
      ]
     },
     "execution_count": 21,
     "metadata": {},
     "output_type": "execute_result"
    }
   ],
   "source": [
    "prediction[0]"
   ]
  },
  {
   "cell_type": "code",
   "execution_count": 22,
   "id": "de80663b",
   "metadata": {},
   "outputs": [
    {
     "name": "stdout",
     "output_type": "stream",
     "text": [
      "there is a tumour \n"
     ]
    }
   ],
   "source": [
    "if(prediction[0]==1):\n",
    "    print('there is a tumour ')\n",
    "else:\n",
    "    print('no tumour !!!!')"
   ]
  },
  {
   "cell_type": "code",
   "execution_count": null,
   "id": "fe135a7b",
   "metadata": {},
   "outputs": [],
   "source": []
  }
 ],
 "metadata": {
  "kernelspec": {
   "display_name": "Python 3 (ipykernel)",
   "language": "python",
   "name": "python3"
  },
  "language_info": {
   "codemirror_mode": {
    "name": "ipython",
    "version": 3
   },
   "file_extension": ".py",
   "mimetype": "text/x-python",
   "name": "python",
   "nbconvert_exporter": "python",
   "pygments_lexer": "ipython3",
   "version": "3.8.16"
  }
 },
 "nbformat": 4,
 "nbformat_minor": 5
}
