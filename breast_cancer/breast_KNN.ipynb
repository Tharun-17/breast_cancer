{
 "cells": [
  {
   "cell_type": "code",
   "execution_count": 1,
   "id": "999f421e",
   "metadata": {},
   "outputs": [],
   "source": [
    "import cv2\n",
    "import numpy as np\n",
    "import pandas as pd\n",
    "from sklearn.model_selection import train_test_split\n",
    "from sklearn.neighbors import KNeighborsClassifier\n",
    "from sklearn.metrics import accuracy_score\n",
    "\n"
   ]
  },
  {
   "cell_type": "code",
   "execution_count": 2,
   "id": "90a2b61d",
   "metadata": {},
   "outputs": [],
   "source": [
    "# Step 1: Image Enhancement\n",
    "def enhance_image(image):\n",
    "    if image is None:\n",
    "        raise ValueError(\"Failed to load the image.\")\n",
    "    negative_image = 255 - image\n",
    "    return negative_image\n",
    "\n"
   ]
  },
  {
   "cell_type": "code",
   "execution_count": 3,
   "id": "b6a4a9ab",
   "metadata": {},
   "outputs": [],
   "source": [
    "# Step 2: Image Segmentation\n",
    "def segment_image(image):\n",
    "    _, binary_image = cv2.threshold(image, 0, 255, cv2.THRESH_BINARY + cv2.THRESH_OTSU)\n",
    "    return binary_image\n",
    "\n"
   ]
  },
  {
   "cell_type": "code",
   "execution_count": 4,
   "id": "23cd3318",
   "metadata": {},
   "outputs": [],
   "source": [
    "# Step 3: Feature Extraction using SIFT\n",
    "def extract_features(image):\n",
    "    sift = cv2.SIFT_create()\n",
    "    keypoints, descriptors = sift.detectAndCompute(image, None)\n",
    "    radius = len(keypoints)\n",
    "    perimeter = len(keypoints)\n",
    "    area = len(keypoints)\n",
    "    return radius, perimeter, area\n",
    "\n"
   ]
  },
  {
   "cell_type": "code",
   "execution_count": 5,
   "id": "8365b81a",
   "metadata": {},
   "outputs": [],
   "source": [
    "# Step 1: Load and Prepare Breast Cancer Dataset\n",
    "dataset = pd.read_csv('breast_cancer_dataset.csv')  # Assuming you have a breast cancer dataset saved as 'breast_cancer_dataset.csv'\n",
    "\n",
    "\n",
    "\n"
   ]
  },
  {
   "cell_type": "code",
   "execution_count": null,
   "id": "e6ad5669",
   "metadata": {},
   "outputs": [],
   "source": []
  },
  {
   "cell_type": "code",
   "execution_count": 6,
   "id": "10fbeba3",
   "metadata": {},
   "outputs": [],
   "source": [
    "# Drop rows with missing values\n",
    "dataset = dataset.dropna()\n",
    "\n"
   ]
  },
  {
   "cell_type": "code",
   "execution_count": 7,
   "id": "08482b1c",
   "metadata": {},
   "outputs": [],
   "source": [
    "X = dataset[['radius', 'perimeter', 'area']]  # Features: radius, perimeter, area\n",
    "y = dataset['cancer']  # Target variable: cancer (0 for no cancer, 1 for cancer)\n",
    "\n",
    "# Step 2: Split the dataset into training and testing sets\n",
    "X_train, X_test, y_train, y_test = train_test_split(X, y, test_size=0.2, random_state=42)\n",
    "\n"
   ]
  },
  {
   "cell_type": "code",
   "execution_count": 8,
   "id": "a4ac7315",
   "metadata": {},
   "outputs": [
    {
     "name": "stdout",
     "output_type": "stream",
     "text": [
      "Accuracy: 0.9210526315789473\n"
     ]
    }
   ],
   "source": [
    "# Step 3: Train the KNN model\n",
    "model = KNeighborsClassifier()\n",
    "model.fit(X_train, y_train)\n",
    "\n",
    "# Step 4: Calculate Accuracy on the Test Set\n",
    "y_pred = model.predict(X_test)\n",
    "accuracy = accuracy_score(y_test, y_pred)\n",
    "print(\"Accuracy:\", accuracy)\n",
    "\n"
   ]
  },
  {
   "cell_type": "code",
   "execution_count": 9,
   "id": "b10b0ce2",
   "metadata": {},
   "outputs": [],
   "source": [
    "# Step 5: Load and Process the Input Image\n",
    "image = cv2.imread('br3.jpg', 0)  # Assuming you have the input image saved as 'input_image.jpg'\n",
    "\n",
    "# Step 6: Image Enhancement\n",
    "try:\n",
    "    enhanced_image = enhance_image(image)\n",
    "except ValueError as e:\n",
    "    print(e)\n",
    "    exit(1)\n",
    "\n"
   ]
  },
  {
   "cell_type": "code",
   "execution_count": 10,
   "id": "18cfba34",
   "metadata": {},
   "outputs": [],
   "source": [
    "# Step 7: Image Segmentation\n",
    "segmented_image = segment_image(enhanced_image)\n",
    "\n",
    "# Step 8: Feature Extraction using SIFT\n",
    "radius, perimeter, area = extract_features(segmented_image)\n",
    "\n"
   ]
  },
  {
   "cell_type": "code",
   "execution_count": 11,
   "id": "12a846fd",
   "metadata": {},
   "outputs": [],
   "source": [
    "# Step 9: Create DataFrame with Features\n",
    "features = pd.DataFrame([[radius, perimeter, area]], columns=['radius', 'perimeter', 'area'])\n",
    "\n",
    "\n"
   ]
  },
  {
   "cell_type": "code",
   "execution_count": 12,
   "id": "76a00468",
   "metadata": {},
   "outputs": [
    {
     "data": {
      "text/html": [
       "<div>\n",
       "<style scoped>\n",
       "    .dataframe tbody tr th:only-of-type {\n",
       "        vertical-align: middle;\n",
       "    }\n",
       "\n",
       "    .dataframe tbody tr th {\n",
       "        vertical-align: top;\n",
       "    }\n",
       "\n",
       "    .dataframe thead th {\n",
       "        text-align: right;\n",
       "    }\n",
       "</style>\n",
       "<table border=\"1\" class=\"dataframe\">\n",
       "  <thead>\n",
       "    <tr style=\"text-align: right;\">\n",
       "      <th></th>\n",
       "      <th>radius</th>\n",
       "      <th>perimeter</th>\n",
       "      <th>area</th>\n",
       "    </tr>\n",
       "  </thead>\n",
       "  <tbody>\n",
       "    <tr>\n",
       "      <th>0</th>\n",
       "      <td>2065</td>\n",
       "      <td>2065</td>\n",
       "      <td>2065</td>\n",
       "    </tr>\n",
       "  </tbody>\n",
       "</table>\n",
       "</div>"
      ],
      "text/plain": [
       "   radius  perimeter  area\n",
       "0    2065       2065  2065"
      ]
     },
     "execution_count": 12,
     "metadata": {},
     "output_type": "execute_result"
    }
   ],
   "source": [
    "features"
   ]
  },
  {
   "cell_type": "code",
   "execution_count": 13,
   "id": "0ce733c0",
   "metadata": {},
   "outputs": [
    {
     "name": "stdout",
     "output_type": "stream",
     "text": [
      "Prediction: [0]\n"
     ]
    }
   ],
   "source": [
    "# Step 10: Predict with the Trained KNN Model\n",
    "prediction = model.predict(features)\n",
    "print(\"Prediction:\", prediction)"
   ]
  },
  {
   "cell_type": "code",
   "execution_count": 14,
   "id": "610b9d3f",
   "metadata": {},
   "outputs": [
    {
     "name": "stdout",
     "output_type": "stream",
     "text": [
      "no tumour !!!!\n"
     ]
    }
   ],
   "source": [
    "if(prediction[0]==1):\n",
    "    print('there is a tumour ')\n",
    "else:\n",
    "    print('no tumour !!!!')"
   ]
  }
 ],
 "metadata": {
  "kernelspec": {
   "display_name": "Python 3 (ipykernel)",
   "language": "python",
   "name": "python3"
  },
  "language_info": {
   "codemirror_mode": {
    "name": "ipython",
    "version": 3
   },
   "file_extension": ".py",
   "mimetype": "text/x-python",
   "name": "python",
   "nbconvert_exporter": "python",
   "pygments_lexer": "ipython3",
   "version": "3.8.16"
  }
 },
 "nbformat": 4,
 "nbformat_minor": 5
}
